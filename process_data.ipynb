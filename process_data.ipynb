{
 "cells": [
  {
   "cell_type": "code",
   "execution_count": 2,
   "metadata": {
    "collapsed": false
   },
   "outputs": [],
   "source": [
    "import pandas as pd\n",
    "import urllib\n",
    "import urllib.request as req\n",
    "import os\n",
    "import numpy as np\n",
    "import matplotlib.pyplot as plt\n"
   ]
  },
  {
   "cell_type": "code",
   "execution_count": 3,
   "metadata": {
    "collapsed": false
   },
   "outputs": [
    {
     "ename": "ModuleNotFoundError",
     "evalue": "No module named 'keras'",
     "output_type": "error",
     "traceback": [
      "\u001b[0;31m---------------------------------------------------------------------------\u001b[0m",
      "\u001b[0;31mModuleNotFoundError\u001b[0m                       Traceback (most recent call last)",
      "\u001b[0;32m<ipython-input-3-1cf78c680c74>\u001b[0m in \u001b[0;36m<module>\u001b[0;34m()\u001b[0m\n\u001b[0;32m----> 1\u001b[0;31m \u001b[1;32mfrom\u001b[0m \u001b[0mutils\u001b[0m \u001b[1;32mimport\u001b[0m \u001b[1;33m*\u001b[0m\u001b[1;33m\u001b[0m\u001b[0m\n\u001b[0m",
      "\u001b[0;32mC:\\ANN\\image_classification\\utils.py\u001b[0m in \u001b[0;36m<module>\u001b[0;34m()\u001b[0m\n\u001b[1;32m     12\u001b[0m \u001b[1;32mfrom\u001b[0m \u001b[0mPIL\u001b[0m \u001b[1;32mimport\u001b[0m \u001b[0mImage\u001b[0m\u001b[1;33m\u001b[0m\u001b[0m\n\u001b[1;32m     13\u001b[0m \u001b[1;32mimport\u001b[0m \u001b[0mrandom\u001b[0m\u001b[1;33m\u001b[0m\u001b[0m\n\u001b[0;32m---> 14\u001b[0;31m \u001b[1;32mfrom\u001b[0m \u001b[0mkeras\u001b[0m\u001b[1;33m.\u001b[0m\u001b[0mpreprocessing\u001b[0m\u001b[1;33m.\u001b[0m\u001b[0mimage\u001b[0m \u001b[1;32mimport\u001b[0m \u001b[0mImageDataGenerator\u001b[0m\u001b[1;33m\u001b[0m\u001b[0m\n\u001b[0m\u001b[1;32m     15\u001b[0m \u001b[1;33m\u001b[0m\u001b[0m\n\u001b[1;32m     16\u001b[0m \u001b[1;33m\u001b[0m\u001b[0m\n",
      "\u001b[0;31mModuleNotFoundError\u001b[0m: No module named 'keras'"
     ]
    }
   ],
   "source": [
    "from utils import *"
   ]
  },
  {
   "cell_type": "markdown",
   "metadata": {},
   "source": [
    "### Load data from csv"
   ]
  },
  {
   "cell_type": "code",
   "execution_count": 4,
   "metadata": {
    "collapsed": false
   },
   "outputs": [
    {
     "name": "stdout",
     "output_type": "stream",
     "text": [
      "<class 'pandas.core.frame.DataFrame'>\n",
      "Int64Index: 68870 entries, 0 to 69999\n",
      "Data columns (total 6 columns):\n",
      "Brand                68870 non-null object\n",
      "Category             68870 non-null object\n",
      "Gender               68870 non-null object\n",
      "Color                68845 non-null object\n",
      "Link_to_the_image    68870 non-null object\n",
      "Sub_category         68870 non-null object\n",
      "dtypes: object(6)\n",
      "memory usage: 3.7+ MB\n",
      "None\n"
     ]
    }
   ],
   "source": [
    "df_train = pd.read_csv('data/myntra_train_dataset.csv')\n",
    "df_train = df_train[~df_train.Link_to_the_image.isnull()]\n",
    "print(df_train.info())"
   ]
  },
  {
   "cell_type": "code",
   "execution_count": 5,
   "metadata": {
    "collapsed": true
   },
   "outputs": [],
   "source": [
    "image_url = df_train['Link_to_the_image'].values\n",
    "sub = df_train['Sub_category'].values"
   ]
  },
  {
   "cell_type": "markdown",
   "metadata": {},
   "source": [
    "### Analytic"
   ]
  },
  {
   "cell_type": "code",
   "execution_count": 4,
   "metadata": {
    "collapsed": false
   },
   "outputs": [
    {
     "name": "stdout",
     "output_type": "stream",
     "text": [
      "             People and Places  1699\n",
      "                     Superhero  1205\n",
      "                        Floral  1598\n",
      "                     Geometric  2045\n",
      "                       Striped  9518\n",
      "                      Abstract  2287\n",
      "                    Polka Dots  127\n",
      "                        Tribal  141\n",
      "                    Camouflage  202\n",
      "        Sports and Team Jersey  400\n",
      "                        Sports  619\n",
      "                 Colourblocked  2527\n",
      "                Conversational  1365\n",
      "                       Checked  196\n",
      "                         Biker  671\n",
      "                         Music  357\n",
      "                   Tie and Dye  307\n",
      "            Horizontal Stripes  0\n",
      "                       Graphic  6321\n",
      "              Humour and Comic  1504\n",
      "                         Solid  21687\n",
      "                   Self Design  325\n",
      "                       Varsity  608\n",
      "                    Typography  13062\n"
     ]
    }
   ],
   "source": [
    "dict_count = summary_data('../data/train/')"
   ]
  },
  {
   "cell_type": "code",
   "execution_count": 5,
   "metadata": {
    "collapsed": false
   },
   "outputs": [
    {
     "data": {
      "text/plain": [
       "68771"
      ]
     },
     "execution_count": 5,
     "metadata": {},
     "output_type": "execute_result"
    }
   ],
   "source": [
    "x = []\n",
    "y = []\n",
    "for k,v in dict_count.items():\n",
    "    x.append(k)\n",
    "    y.append(v)\n",
    "sum(y)"
   ]
  },
  {
   "cell_type": "code",
   "execution_count": 17,
   "metadata": {
    "collapsed": false
   },
   "outputs": [
    {
     "data": {
      "image/png": "[encoded data removed]",
      "text/plain": [
       "<matplotlib.figure.Figure at 0x7f170c5eb2b0>"
      ]
     },
     "metadata": {},
     "output_type": "display_data"
    }
   ],
   "source": [
    "df = pd.DataFrame({'class': x, 'count': y})\n",
    "ax = df.plot(kind='bar', x='class', y='count')\n",
    "ax.get_figure().savefig('class_count.png')"
   ]
  },
  {
   "cell_type": "code",
   "execution_count": 12,
   "metadata": {
    "collapsed": true
   },
   "outputs": [],
   "source": [
    "#plt.bar(range(len(df)), list(df.values()), align='center')\n",
    "#plt.xticks(range(len(df)), list(df.keys()))\n",
    "#plt.show()"
   ]
  },
  {
   "cell_type": "code",
   "execution_count": 6,
   "metadata": {
    "collapsed": false
   },
   "outputs": [
    {
     "name": "stdout",
     "output_type": "stream",
     "text": [
      "Creating train/val data from ../data/train/ to ../data/\n",
      "Process data in People and Places\n",
      "Split train/val: 1530 \t-\t 169\n",
      "Process data in Superhero\n",
      "Split train/val: 1085 \t-\t 120\n",
      "Process data in Floral\n",
      "Cannot read image for  ../data/train/Floral/20101.jpg\n",
      "Split train/val: 1438 \t-\t 159\n",
      "Process data in Geometric\n",
      "Cannot read image for  ../data/train/Geometric/55026.jpg\n",
      "Split train/val: 1840 \t-\t 204\n",
      "Process data in Striped\n",
      "Cannot read image for  ../data/train/Striped/3147.jpg\n",
      "Cannot read image for  ../data/train/Striped/14875.jpg\n",
      "Cannot read image for  ../data/train/Striped/53935.jpg\n",
      "Split train/val: 8564 \t-\t 951\n",
      "Process data in Abstract\n",
      "Split train/val: 2059 \t-\t 228\n",
      "Process data in Polka Dots\n",
      "Split train/val: 107 \t-\t 20\n",
      "Process data in Tribal\n",
      "Split train/val: 121 \t-\t 20\n",
      "Process data in Camouflage\n",
      "Split train/val: 182 \t-\t 20\n",
      "Process data in Sports and Team Jersey\n",
      "Split train/val: 360 \t-\t 40\n",
      "Process data in Sports\n",
      "Split train/val: 558 \t-\t 61\n",
      "Process data in Colourblocked\n",
      "Cannot read image for  ../data/train/Colourblocked/54016.jpg\n",
      "Split train/val: 2274 \t-\t 252\n",
      "Process data in Conversational\n",
      "Split train/val: 1229 \t-\t 136\n",
      "Process data in Checked\n",
      "Split train/val: 176 \t-\t 20\n",
      "Process data in Biker\n",
      "Split train/val: 604 \t-\t 67\n",
      "Process data in Music\n",
      "Split train/val: 322 \t-\t 35\n",
      "Process data in Tie and Dye\n",
      "Split train/val: 277 \t-\t 30\n",
      "Process data in Horizontal Stripes\n",
      "Process data in Graphic\n",
      "Split train/val: 5689 \t-\t 632\n",
      "Process data in Humour and Comic\n",
      "Split train/val: 1354 \t-\t 150\n",
      "Process data in Solid\n",
      "Cannot read image for  ../data/train/Solid/53839.jpg\n",
      "Split train/val: 19518 \t-\t 2168\n",
      "Process data in Self Design\n",
      "Split train/val: 293 \t-\t 32\n",
      "Process data in Varsity\n",
      "Split train/val: 548 \t-\t 60\n",
      "Process data in Typography\n",
      "Split train/val: 11756 \t-\t 1306\n"
     ]
    }
   ],
   "source": [
    "create_data('../data/train/', '../data/', name='264x198', min_val=20, split=0.1, des_size=(264,198))"
   ]
  },
  {
   "cell_type": "code",
   "execution_count": 7,
   "metadata": {
    "collapsed": false
   },
   "outputs": [
    {
     "name": "stdout",
     "output_type": "stream",
     "text": [
      "             People and Places  1530\n",
      "                     Superhero  1085\n",
      "                        Floral  1438\n",
      "                     Geometric  1840\n",
      "                       Striped  8564\n",
      "                      Abstract  2059\n",
      "                    Polka Dots  107\n",
      "                        Tribal  121\n",
      "                    Camouflage  182\n",
      "        Sports and Team Jersey  360\n",
      "                        Sports  558\n",
      "                 Colourblocked  2274\n",
      "                Conversational  1229\n",
      "                       Checked  176\n",
      "                         Biker  604\n",
      "                         Music  322\n",
      "                   Tie and Dye  277\n",
      "            Horizontal Stripes  0\n",
      "                       Graphic  5689\n",
      "              Humour and Comic  1354\n",
      "                         Solid  19518\n",
      "                   Self Design  293\n",
      "                       Varsity  548\n",
      "                    Typography  11756\n"
     ]
    }
   ],
   "source": [
    "df = summary_data('../data/264x198/')"
   ]
  }
 ],
 "metadata": {
  "kernelspec": {
   "display_name": "Python 3",
   "language": "python",
   "name": "python3"
  },
  "language_info": {
   "codemirror_mode": {
    "name": "ipython",
    "version": 3
   },
   "file_extension": ".py",
   "mimetype": "text/x-python",
   "name": "python",
   "nbconvert_exporter": "python",
   "pygments_lexer": "ipython3",
   "version": "3.6.0"
  }
 },
 "nbformat": 4,
 "nbformat_minor": 2
}
