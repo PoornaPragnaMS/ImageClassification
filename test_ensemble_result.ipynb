{
 "cells": [
  {
   "cell_type": "code",
   "execution_count": 4,
   "metadata": {},
   "outputs": [
    {
     "name": "stderr",
     "output_type": "stream",
     "text": [
      "/home/syht/anaconda3/lib/python3.6/site-packages/h5py/__init__.py:36: FutureWarning: Conversion of the second argument of issubdtype from `float` to `np.floating` is deprecated. In future, it will be treated as `np.float64 == np.dtype(float).type`.\n",
      "  from ._conv import register_converters as _register_converters\n",
      "Using TensorFlow backend.\n"
     ]
    }
   ],
   "source": [
    "from PIL import ImageFile\n",
    "ImageFile.LOAD_TRUNCATED_IMAGES = True\n",
    "import random\n",
    "import os\n",
    "from utils import *\n",
    "from sklearn.metrics import accuracy_score\n",
    "import pickle"
   ]
  },
  {
   "cell_type": "code",
   "execution_count": 5,
   "metadata": {},
   "outputs": [
    {
     "name": "stdout",
     "output_type": "stream",
     "text": [
      "dict_keys(['predict_probas', 'predict_classes', 'true_classes', 'label_map', 'file_names'])\n"
     ]
    }
   ],
   "source": [
    "### Read prediction result\n",
    "result = {}\n",
    "with open('ensembel_result.pkl', 'rb') as f:\n",
    "    result = pickle.load(f)\n",
    "print(result.keys())"
   ]
  },
  {
   "cell_type": "code",
   "execution_count": 12,
   "metadata": {},
   "outputs": [],
   "source": [
    "### Read submission file\n",
    "df_sub = pd.read_csv('data/Submission_online.csv')"
   ]
  },
  {
   "cell_type": "code",
   "execution_count": 16,
   "metadata": {},
   "outputs": [
    {
     "name": "stdout",
     "output_type": "stream",
     "text": [
      "<class 'pandas.core.frame.DataFrame'>\n",
      "Int64Index: 14770 entries, 0 to 14999\n",
      "Data columns (total 6 columns):\n",
      "Brand                14770 non-null object\n",
      "Category             14770 non-null object\n",
      "Gender               14770 non-null object\n",
      "Color                14758 non-null object\n",
      "Link_to_the_image    14770 non-null object\n",
      "Sub_category         0 non-null float64\n",
      "dtypes: float64(1), object(5)\n",
      "memory usage: 807.7+ KB\n"
     ]
    }
   ],
   "source": [
    "print(df_sub.info())"
   ]
  },
  {
   "cell_type": "code",
   "execution_count": 10,
   "metadata": {},
   "outputs": [
    {
     "name": "stdout",
     "output_type": "stream",
     "text": [
      "Found 61884 images belonging to 23 classes.\n",
      "{0: 'Abstract', 1: 'Biker', 2: 'Camouflage', 3: 'Checked', 4: 'Colourblocked', 5: 'Conversational', 6: 'Floral', 7: 'Geometric', 8: 'Graphic', 9: 'Humour and Comic', 10: 'Music', 11: 'People and Places', 12: 'Polka Dots', 13: 'Self Design', 14: 'Solid', 15: 'Sports', 16: 'Sports and Team Jersey', 17: 'Striped', 18: 'Superhero', 19: 'Tie and Dye', 20: 'Tribal', 21: 'Typography', 22: 'Varsity'}\n"
     ]
    }
   ],
   "source": [
    "generator = get_image_generator('data/264x198', (200, 150), batch_size=32, shuffle=False)\n",
    "label_map = generator.class_indices\n",
    "label_map = dict((v,k) for k,v in label_map.items())\n",
    "print(label_map)"
   ]
  },
  {
   "cell_type": "code",
   "execution_count": null,
   "metadata": {},
   "outputs": [],
   "source": [
    "### Adding prediction class\n",
    "names_idx = result['file_names']\n",
    "\n",
    "predict_classes = result['predict_classes']\n",
    "\n",
    "for i, cl in zip(names_idx, predict_classes):\n",
    "    df_sub['Sub_category'][int(i)] = label_map[cl]"
   ]
  },
  {
   "cell_type": "code",
   "execution_count": null,
   "metadata": {},
   "outputs": [],
   "source": [
    "print(df_sub.head())"
   ]
  },
  {
   "cell_type": "code",
   "execution_count": null,
   "metadata": {},
   "outputs": [],
   "source": [
    "### Saving\n",
    "df_sub.to_csv('data/Submission_online_completed.csv')"
   ]
  },
  {
   "cell_type": "code",
   "execution_count": 1,
   "metadata": {},
   "outputs": [],
   "source": [
    "image = 'test/0.png'"
   ]
  },
  {
   "cell_type": "code",
   "execution_count": 2,
   "metadata": {},
   "outputs": [],
   "source": [
    "image = image.split('/')[1].split('.')[0]"
   ]
  },
  {
   "cell_type": "code",
   "execution_count": 3,
   "metadata": {},
   "outputs": [
    {
     "data": {
      "text/plain": [
       "'0'"
      ]
     },
     "execution_count": 3,
     "metadata": {},
     "output_type": "execute_result"
    }
   ],
   "source": [
    "image"
   ]
  },
  {
   "cell_type": "code",
   "execution_count": 6,
   "metadata": {},
   "outputs": [],
   "source": [
    "label_map = result['label_map']"
   ]
  },
  {
   "cell_type": "code",
   "execution_count": 7,
   "metadata": {},
   "outputs": [
    {
     "data": {
      "text/plain": [
       "{0: 'test'}"
      ]
     },
     "execution_count": 7,
     "metadata": {},
     "output_type": "execute_result"
    }
   ],
   "source": [
    "label_map"
   ]
  },
  {
   "cell_type": "code",
   "execution_count": 8,
   "metadata": {},
   "outputs": [
    {
     "name": "stdout",
     "output_type": "stream",
     "text": [
      "Found 6880 images belonging to 23 classes.\n"
     ]
    }
   ],
   "source": [
    "generator = get_image_generator('data/264x198', (200, 150), batch_size=32, shuffle=False)"
   ]
  },
  {
   "cell_type": "code",
   "execution_count": 9,
   "metadata": {},
   "outputs": [
    {
     "data": {
      "text/plain": [
       "{'Abstract': 0,\n",
       " 'Biker': 1,\n",
       " 'Camouflage': 2,\n",
       " 'Checked': 3,\n",
       " 'Colourblocked': 4,\n",
       " 'Conversational': 5,\n",
       " 'Floral': 6,\n",
       " 'Geometric': 7,\n",
       " 'Graphic': 8,\n",
       " 'Humour and Comic': 9,\n",
       " 'Music': 10,\n",
       " 'People and Places': 11,\n",
       " 'Polka Dots': 12,\n",
       " 'Self Design': 13,\n",
       " 'Solid': 14,\n",
       " 'Sports': 15,\n",
       " 'Sports and Team Jersey': 16,\n",
       " 'Striped': 17,\n",
       " 'Superhero': 18,\n",
       " 'Tie and Dye': 19,\n",
       " 'Tribal': 20,\n",
       " 'Typography': 21,\n",
       " 'Varsity': 22}"
      ]
     },
     "execution_count": 9,
     "metadata": {},
     "output_type": "execute_result"
    }
   ],
   "source": [
    "generator.class_indices"
   ]
  },
  {
   "cell_type": "code",
   "execution_count": null,
   "metadata": {},
   "outputs": [],
   "source": []
  }
 ],
 "metadata": {
  "kernelspec": {
   "display_name": "Python 3",
   "language": "python",
   "name": "python3"
  },
  "language_info": {
   "codemirror_mode": {
    "name": "ipython",
    "version": 3
   },
   "file_extension": ".py",
   "mimetype": "text/x-python",
   "name": "python",
   "nbconvert_exporter": "python",
   "pygments_lexer": "ipython3",
   "version": "3.6.4"
  }
 },
 "nbformat": 4,
 "nbformat_minor": 2
}
